{
 "cells": [
  {
   "cell_type": "markdown",
   "id": "5bb6df5f",
   "metadata": {},
   "source": [
    "Grzegorz Słowiński\n",
    "# Wykrywanie oszustw na kartach kredytowych"
   ]
  },
  {
   "cell_type": "code",
   "execution_count": 1,
   "id": "b44a2e17",
   "metadata": {},
   "outputs": [],
   "source": [
    "# wykonanie potrzebnych importów\n",
    "import pandas as pd\n",
    "import numpy as np\n",
    "import seaborn as sns\n",
    "import matplotlib.pyplot as plt\n",
    "\n",
    "# import potrzebnych funkcji z sci-kit learn\n",
    "from sklearn.model_selection import train_test_split, cross_val_score\n",
    "from sklearn.metrics import accuracy_score, confusion_matrix, ConfusionMatrixDisplay, precision_score, recall_score,balanced_accuracy_score\n",
    "from sklearn.ensemble import RandomForestClassifier\n",
    "\n",
    "# import przeróżnych klasyfikatorów\n",
    "from sklearn.naive_bayes import GaussianNB\n",
    "from sklearn.svm import SVC\n",
    "from sklearn.tree import DecisionTreeClassifier\n",
    "from sklearn.ensemble import RandomForestClassifier\n",
    "from sklearn.linear_model import LogisticRegression\n",
    "from sklearn.linear_model import SGDClassifier\n",
    "\n",
    "# do zapisywania i ładowania wyuczonych modeli\n",
    "from joblib import dump, load"
   ]
  },
  {
   "cell_type": "markdown",
   "id": "8172984f",
   "metadata": {},
   "source": [
    "Pobranie danych dotyczących card kredytowych do pandas DataFrame cards.  \n",
    "Plik powinien być umieszczony w tym samym katalogu, co notatnik   \n",
    "Plik można pobrać np. tutaj https://www.kaggle.com/mlg-ulb/creditcardfraud"
   ]
  },
  {
   "cell_type": "code",
   "execution_count": 2,
   "id": "a616d87b",
   "metadata": {},
   "outputs": [
    {
     "data": {
      "text/html": [
       "<div>\n",
       "<style scoped>\n",
       "    .dataframe tbody tr th:only-of-type {\n",
       "        vertical-align: middle;\n",
       "    }\n",
       "\n",
       "    .dataframe tbody tr th {\n",
       "        vertical-align: top;\n",
       "    }\n",
       "\n",
       "    .dataframe thead th {\n",
       "        text-align: right;\n",
       "    }\n",
       "</style>\n",
       "<table border=\"1\" class=\"dataframe\">\n",
       "  <thead>\n",
       "    <tr style=\"text-align: right;\">\n",
       "      <th></th>\n",
       "      <th>Time</th>\n",
       "      <th>V1</th>\n",
       "      <th>V2</th>\n",
       "      <th>V3</th>\n",
       "      <th>V4</th>\n",
       "      <th>V5</th>\n",
       "      <th>V6</th>\n",
       "      <th>V7</th>\n",
       "      <th>V8</th>\n",
       "      <th>V9</th>\n",
       "      <th>...</th>\n",
       "      <th>V21</th>\n",
       "      <th>V22</th>\n",
       "      <th>V23</th>\n",
       "      <th>V24</th>\n",
       "      <th>V25</th>\n",
       "      <th>V26</th>\n",
       "      <th>V27</th>\n",
       "      <th>V28</th>\n",
       "      <th>Amount</th>\n",
       "      <th>Class</th>\n",
       "    </tr>\n",
       "  </thead>\n",
       "  <tbody>\n",
       "    <tr>\n",
       "      <th>count</th>\n",
       "      <td>284807.00</td>\n",
       "      <td>284807.00</td>\n",
       "      <td>284807.00</td>\n",
       "      <td>284807.00</td>\n",
       "      <td>284807.00</td>\n",
       "      <td>284807.00</td>\n",
       "      <td>284807.00</td>\n",
       "      <td>284807.00</td>\n",
       "      <td>284807.00</td>\n",
       "      <td>284807.00</td>\n",
       "      <td>...</td>\n",
       "      <td>284807.00</td>\n",
       "      <td>284807.00</td>\n",
       "      <td>284807.00</td>\n",
       "      <td>284807.00</td>\n",
       "      <td>284807.00</td>\n",
       "      <td>284807.00</td>\n",
       "      <td>284807.00</td>\n",
       "      <td>284807.00</td>\n",
       "      <td>284807.00</td>\n",
       "      <td>284807.00</td>\n",
       "    </tr>\n",
       "    <tr>\n",
       "      <th>mean</th>\n",
       "      <td>94813.86</td>\n",
       "      <td>0.00</td>\n",
       "      <td>0.00</td>\n",
       "      <td>-0.00</td>\n",
       "      <td>0.00</td>\n",
       "      <td>-0.00</td>\n",
       "      <td>0.00</td>\n",
       "      <td>-0.00</td>\n",
       "      <td>-0.00</td>\n",
       "      <td>-0.00</td>\n",
       "      <td>...</td>\n",
       "      <td>0.00</td>\n",
       "      <td>0.00</td>\n",
       "      <td>0.00</td>\n",
       "      <td>0.00</td>\n",
       "      <td>0.00</td>\n",
       "      <td>0.00</td>\n",
       "      <td>-0.00</td>\n",
       "      <td>-0.00</td>\n",
       "      <td>88.35</td>\n",
       "      <td>0.00</td>\n",
       "    </tr>\n",
       "    <tr>\n",
       "      <th>std</th>\n",
       "      <td>47488.15</td>\n",
       "      <td>1.96</td>\n",
       "      <td>1.65</td>\n",
       "      <td>1.52</td>\n",
       "      <td>1.42</td>\n",
       "      <td>1.38</td>\n",
       "      <td>1.33</td>\n",
       "      <td>1.24</td>\n",
       "      <td>1.19</td>\n",
       "      <td>1.10</td>\n",
       "      <td>...</td>\n",
       "      <td>0.73</td>\n",
       "      <td>0.73</td>\n",
       "      <td>0.62</td>\n",
       "      <td>0.61</td>\n",
       "      <td>0.52</td>\n",
       "      <td>0.48</td>\n",
       "      <td>0.40</td>\n",
       "      <td>0.33</td>\n",
       "      <td>250.12</td>\n",
       "      <td>0.04</td>\n",
       "    </tr>\n",
       "    <tr>\n",
       "      <th>min</th>\n",
       "      <td>0.00</td>\n",
       "      <td>-56.41</td>\n",
       "      <td>-72.72</td>\n",
       "      <td>-48.33</td>\n",
       "      <td>-5.68</td>\n",
       "      <td>-113.74</td>\n",
       "      <td>-26.16</td>\n",
       "      <td>-43.56</td>\n",
       "      <td>-73.22</td>\n",
       "      <td>-13.43</td>\n",
       "      <td>...</td>\n",
       "      <td>-34.83</td>\n",
       "      <td>-10.93</td>\n",
       "      <td>-44.81</td>\n",
       "      <td>-2.84</td>\n",
       "      <td>-10.30</td>\n",
       "      <td>-2.60</td>\n",
       "      <td>-22.57</td>\n",
       "      <td>-15.43</td>\n",
       "      <td>0.00</td>\n",
       "      <td>0.00</td>\n",
       "    </tr>\n",
       "    <tr>\n",
       "      <th>25%</th>\n",
       "      <td>54201.50</td>\n",
       "      <td>-0.92</td>\n",
       "      <td>-0.60</td>\n",
       "      <td>-0.89</td>\n",
       "      <td>-0.85</td>\n",
       "      <td>-0.69</td>\n",
       "      <td>-0.77</td>\n",
       "      <td>-0.55</td>\n",
       "      <td>-0.21</td>\n",
       "      <td>-0.64</td>\n",
       "      <td>...</td>\n",
       "      <td>-0.23</td>\n",
       "      <td>-0.54</td>\n",
       "      <td>-0.16</td>\n",
       "      <td>-0.35</td>\n",
       "      <td>-0.32</td>\n",
       "      <td>-0.33</td>\n",
       "      <td>-0.07</td>\n",
       "      <td>-0.05</td>\n",
       "      <td>5.60</td>\n",
       "      <td>0.00</td>\n",
       "    </tr>\n",
       "    <tr>\n",
       "      <th>50%</th>\n",
       "      <td>84692.00</td>\n",
       "      <td>0.02</td>\n",
       "      <td>0.07</td>\n",
       "      <td>0.18</td>\n",
       "      <td>-0.02</td>\n",
       "      <td>-0.05</td>\n",
       "      <td>-0.27</td>\n",
       "      <td>0.04</td>\n",
       "      <td>0.02</td>\n",
       "      <td>-0.05</td>\n",
       "      <td>...</td>\n",
       "      <td>-0.03</td>\n",
       "      <td>0.01</td>\n",
       "      <td>-0.01</td>\n",
       "      <td>0.04</td>\n",
       "      <td>0.02</td>\n",
       "      <td>-0.05</td>\n",
       "      <td>0.00</td>\n",
       "      <td>0.01</td>\n",
       "      <td>22.00</td>\n",
       "      <td>0.00</td>\n",
       "    </tr>\n",
       "    <tr>\n",
       "      <th>75%</th>\n",
       "      <td>139320.50</td>\n",
       "      <td>1.32</td>\n",
       "      <td>0.80</td>\n",
       "      <td>1.03</td>\n",
       "      <td>0.74</td>\n",
       "      <td>0.61</td>\n",
       "      <td>0.40</td>\n",
       "      <td>0.57</td>\n",
       "      <td>0.33</td>\n",
       "      <td>0.60</td>\n",
       "      <td>...</td>\n",
       "      <td>0.19</td>\n",
       "      <td>0.53</td>\n",
       "      <td>0.15</td>\n",
       "      <td>0.44</td>\n",
       "      <td>0.35</td>\n",
       "      <td>0.24</td>\n",
       "      <td>0.09</td>\n",
       "      <td>0.08</td>\n",
       "      <td>77.16</td>\n",
       "      <td>0.00</td>\n",
       "    </tr>\n",
       "    <tr>\n",
       "      <th>max</th>\n",
       "      <td>172792.00</td>\n",
       "      <td>2.45</td>\n",
       "      <td>22.06</td>\n",
       "      <td>9.38</td>\n",
       "      <td>16.88</td>\n",
       "      <td>34.80</td>\n",
       "      <td>73.30</td>\n",
       "      <td>120.59</td>\n",
       "      <td>20.01</td>\n",
       "      <td>15.59</td>\n",
       "      <td>...</td>\n",
       "      <td>27.20</td>\n",
       "      <td>10.50</td>\n",
       "      <td>22.53</td>\n",
       "      <td>4.58</td>\n",
       "      <td>7.52</td>\n",
       "      <td>3.52</td>\n",
       "      <td>31.61</td>\n",
       "      <td>33.85</td>\n",
       "      <td>25691.16</td>\n",
       "      <td>1.00</td>\n",
       "    </tr>\n",
       "  </tbody>\n",
       "</table>\n",
       "<p>8 rows × 31 columns</p>\n",
       "</div>"
      ],
      "text/plain": [
       "            Time         V1         V2         V3         V4         V5  \\\n",
       "count  284807.00  284807.00  284807.00  284807.00  284807.00  284807.00   \n",
       "mean    94813.86       0.00       0.00      -0.00       0.00      -0.00   \n",
       "std     47488.15       1.96       1.65       1.52       1.42       1.38   \n",
       "min         0.00     -56.41     -72.72     -48.33      -5.68    -113.74   \n",
       "25%     54201.50      -0.92      -0.60      -0.89      -0.85      -0.69   \n",
       "50%     84692.00       0.02       0.07       0.18      -0.02      -0.05   \n",
       "75%    139320.50       1.32       0.80       1.03       0.74       0.61   \n",
       "max    172792.00       2.45      22.06       9.38      16.88      34.80   \n",
       "\n",
       "              V6         V7         V8         V9  ...        V21        V22  \\\n",
       "count  284807.00  284807.00  284807.00  284807.00  ...  284807.00  284807.00   \n",
       "mean        0.00      -0.00      -0.00      -0.00  ...       0.00       0.00   \n",
       "std         1.33       1.24       1.19       1.10  ...       0.73       0.73   \n",
       "min       -26.16     -43.56     -73.22     -13.43  ...     -34.83     -10.93   \n",
       "25%        -0.77      -0.55      -0.21      -0.64  ...      -0.23      -0.54   \n",
       "50%        -0.27       0.04       0.02      -0.05  ...      -0.03       0.01   \n",
       "75%         0.40       0.57       0.33       0.60  ...       0.19       0.53   \n",
       "max        73.30     120.59      20.01      15.59  ...      27.20      10.50   \n",
       "\n",
       "             V23        V24        V25        V26        V27        V28  \\\n",
       "count  284807.00  284807.00  284807.00  284807.00  284807.00  284807.00   \n",
       "mean        0.00       0.00       0.00       0.00      -0.00      -0.00   \n",
       "std         0.62       0.61       0.52       0.48       0.40       0.33   \n",
       "min       -44.81      -2.84     -10.30      -2.60     -22.57     -15.43   \n",
       "25%        -0.16      -0.35      -0.32      -0.33      -0.07      -0.05   \n",
       "50%        -0.01       0.04       0.02      -0.05       0.00       0.01   \n",
       "75%         0.15       0.44       0.35       0.24       0.09       0.08   \n",
       "max        22.53       4.58       7.52       3.52      31.61      33.85   \n",
       "\n",
       "          Amount      Class  \n",
       "count  284807.00  284807.00  \n",
       "mean       88.35       0.00  \n",
       "std       250.12       0.04  \n",
       "min         0.00       0.00  \n",
       "25%         5.60       0.00  \n",
       "50%        22.00       0.00  \n",
       "75%        77.16       0.00  \n",
       "max     25691.16       1.00  \n",
       "\n",
       "[8 rows x 31 columns]"
      ]
     },
     "execution_count": 2,
     "metadata": {},
     "output_type": "execute_result"
    }
   ],
   "source": [
    "cards = pd.read_csv('creditcard.csv')\n",
    "\n",
    "# podejrzenie charakterystyki zbioru card\n",
    "cardsDescription = round(cards.describe(),2)\n",
    "cardsDescription\n",
    "#opcjonalne pobranie charakterystyki do pliku excel (odkomentuj linię poniżej)\n",
    "#cardsDescription.to_excel(\"cardsDescription.xlsx\") \n"
   ]
  },
  {
   "cell_type": "markdown",
   "id": "064ed71f",
   "metadata": {},
   "source": [
    "Widać, że metryka TIME to sekundy od początku pomiaru - postanawiam wykonać modulo 86400, \n",
    "gdyż uważam, że większy pożytek da nam informacja w jakim momencie doby odbywa się transakcja"
   ]
  },
  {
   "cell_type": "code",
   "execution_count": 3,
   "id": "d7665ef8",
   "metadata": {},
   "outputs": [],
   "source": [
    "cards['Time'] = cards['Time']%86400"
   ]
  },
  {
   "cell_type": "code",
   "execution_count": 4,
   "id": "b98e31e2",
   "metadata": {},
   "outputs": [
    {
     "name": "stdout",
     "output_type": "stream",
     "text": [
      "Liczba oszustw to  492\n",
      "Oszustwa stanowią  0.1727485630620034 %\n"
     ]
    }
   ],
   "source": [
    "# obliczenie ilości oszustw\n",
    "#oszustwa = sum (cards['Class']==1) - gorszy styl\n",
    "oszustwa = cards[cards['Class']==1]['Class'].count()\n",
    "transakcje = cards['Class'].count()\n",
    "print ('Liczba oszustw to ',oszustwa)\n",
    "print ('Oszustwa stanowią ',oszustwa/transakcje*100,\"%\")"
   ]
  },
  {
   "cell_type": "markdown",
   "id": "16e5c7c6",
   "metadata": {},
   "source": [
    "## Wizualizacja\n",
    "Spróbujemy zwizualizować punkty\n",
    "Wizualizacja wymaga sprowadzenia punktów z 30 wymiarów do 2 wymiarów. Dokonujemy kolejnej transformacji PCA. Tworzymy kopię danych. Podstawowa analiza nastąpi na danych o 30 wymiarach"
   ]
  },
  {
   "cell_type": "code",
   "execution_count": 5,
   "id": "ddefe04f",
   "metadata": {},
   "outputs": [
    {
     "data": {
      "image/png": "[encoded data removed]",
      "text/plain": [
       "<Figure size 432x288 with 1 Axes>"
      ]
     },
     "metadata": {
      "needs_background": "light"
     },
     "output_type": "display_data"
    }
   ],
   "source": [
    "from sklearn.decomposition import PCA\n",
    "pca = PCA(n_components=2)\n",
    "cards2D= pca.fit_transform(cards)\n",
    "\n",
    "# wykonanie wykresu\n",
    "plt.scatter(cards2D[:, 0], cards2D[:, 1],c=cards['Class'], cmap=plt.cm.prism, edgecolor='k', alpha=0.1)\n",
    "plt.xlabel('PC1')\n",
    "plt.ylabel('PC2')\n",
    "\n",
    "plt.savefig('PC_Full.jpg')\n",
    "plt.show()"
   ]
  },
  {
   "cell_type": "markdown",
   "id": "0aae8b5a",
   "metadata": {},
   "source": [
    "Ze względu na ekstremalne niezbalansowanie danych nie widać punktów dla oszustw. Wydobędziemy klasę oszustw na odrębny wykres."
   ]
  },
  {
   "cell_type": "code",
   "execution_count": 6,
   "id": "c105ffad",
   "metadata": {},
   "outputs": [],
   "source": [
    "cardsCheats2D=np.empty([1,2])\n",
    "for i in range(len(cards['Class'])):\n",
    "        if (cards['Class'][i]==1):\n",
    "            cardsCheats2D=np.append(cardsCheats2D,[cards2D[i]],axis=0)"
   ]
  },
  {
   "cell_type": "code",
   "execution_count": 7,
   "id": "11977203",
   "metadata": {},
   "outputs": [
    {
     "data": {
      "image/png": "[encoded data removed]",
      "text/plain": [
       "<Figure size 432x288 with 1 Axes>"
      ]
     },
     "metadata": {
      "needs_background": "light"
     },
     "output_type": "display_data"
    }
   ],
   "source": [
    "plt.scatter(cardsCheats2D[:, 0], cardsCheats2D[:, 1], cmap=plt.cm.prism, edgecolor='k', alpha=0.1)\n",
    "plt.xlabel('PC1')\n",
    "plt.ylabel('PC2')\n",
    "plt.savefig('PC_Cheats.jpg')\n",
    "plt.show()"
   ]
  },
  {
   "cell_type": "markdown",
   "id": "ed7a7352",
   "metadata": {},
   "source": [
    "## Podział na dane treningowe i testowe"
   ]
  },
  {
   "cell_type": "code",
   "execution_count": 4,
   "id": "c6997fe8",
   "metadata": {},
   "outputs": [],
   "source": [
    "#Podział na zbiór cech Xcards i kolumnę oznaczeń klasy Ycards\n",
    "Xcards=cards.drop('Class',axis=1)\n",
    "Ycards=cards[\"Class\"]\n",
    "\n",
    "# Podział na zbiór treningowy i testowy. \n",
    "# random_state=5 is użyte, aby zapewnić powtarzalność\n",
    "Xtrain,Xtest,Ytrain,Ytest=train_test_split(Xcards,Ycards,test_size=0.2, random_state=5)\n"
   ]
  },
  {
   "cell_type": "markdown",
   "id": "e439a857",
   "metadata": {},
   "source": [
    "## Wstępne analizy"
   ]
  },
  {
   "cell_type": "markdown",
   "id": "ca0e46ec",
   "metadata": {},
   "source": [
    "### Gaussian Naive Bayes"
   ]
  },
  {
   "cell_type": "code",
   "execution_count": 9,
   "id": "5bd2f2ff",
   "metadata": {},
   "outputs": [
    {
     "name": "stdout",
     "output_type": "stream",
     "text": [
      "Wyniki klasyfikatora gaussian naive bayes\n",
      "Trafność =  98.6 %\n",
      "Precyzja =  9.73 %\n",
      "Czułość =  80.77 %\n",
      "Zbalansowana trafność = 79.4 %\n"
     ]
    }
   ],
   "source": [
    "model=GaussianNB()\n",
    "model.fit(Xtrain,Ytrain)\n",
    "Ypred=model.predict(Xtest)\n",
    "\n",
    "print ('Wyniki klasyfikatora gaussian naive bayes')\n",
    "print ('Trafność = ', round(accuracy_score(Ytest,Ypred)*100,2),'%')\n",
    "print('Precyzja = ',round(precision_score(Ytest,Ypred)*100,2),'%') \n",
    "print('Czułość = ', round(recall_score(Ytest,Ypred)*100,2),'%') \n",
    "print('Zbalansowana trafność =', round(balanced_accuracy_score(Ytest,Ypred,adjusted=True)*100,2),'%')"
   ]
  },
  {
   "cell_type": "code",
   "execution_count": 10,
   "id": "d88bf9e6",
   "metadata": {},
   "outputs": [
    {
     "data": {
      "image/png": "[encoded data removed]",
      "text/plain": [
       "<Figure size 432x288 with 2 Axes>"
      ]
     },
     "metadata": {
      "needs_background": "light"
     },
     "output_type": "display_data"
    }
   ],
   "source": [
    "mat = confusion_matrix(Ytest, Ypred)\n",
    "disp = ConfusionMatrixDisplay(confusion_matrix=mat)\n",
    "\n",
    "disp.plot()\n",
    "plt.title(\"gaussian naive bayes\")\n",
    "plt.savefig('RF_C_matrix.png')\n",
    "plt.show()"
   ]
  },
  {
   "cell_type": "code",
   "execution_count": 11,
   "id": "8e21e59b",
   "metadata": {},
   "outputs": [
    {
     "name": "stdout",
     "output_type": "stream",
     "text": [
      "Wyniki klasyfikatora drzewo decyzyjne\n",
      "Trafność =  99.95 %\n",
      "Precyzja =  94.05 %\n",
      "Czułość =  75.96 %\n",
      "Zbalansowana trafność = 75.95 %\n",
      "Pomijamy macierz pomyłki\n"
     ]
    }
   ],
   "source": [
    "dtModelBig=DecisionTreeClassifier(max_depth=10, max_leaf_nodes=30,random_state=1)\n",
    "dtModelBig.fit(Xtrain,Ytrain)  # repated a few times to measure execution time\n",
    "Ypred=dtModelBig.predict(Xtest)\n",
    "print ('Wyniki klasyfikatora drzewo decyzyjne')\n",
    "print ('Trafność = ', round(accuracy_score(Ytest,Ypred)*100,2),'%')\n",
    "print('Precyzja = ',round(precision_score(Ytest,Ypred)*100,2),'%') \n",
    "print('Czułość = ', round(recall_score(Ytest,Ypred)*100,2),'%') \n",
    "print('Zbalansowana trafność =', round(balanced_accuracy_score(Ytest,Ypred,adjusted=True)*100,2),'%')\n",
    "print (\"Pomijamy macierz pomyłki\")"
   ]
  },
  {
   "cell_type": "code",
   "execution_count": 12,
   "id": "309fd083",
   "metadata": {},
   "outputs": [
    {
     "name": "stdout",
     "output_type": "stream",
     "text": [
      "Wyniki klasyfikatora regresja logistyczna\n",
      "Trafność =  99.92 %\n",
      "Precyzja =  84.34 %\n",
      "Czułość =  67.31 %\n",
      "Zbalansowana trafność = 67.28 %\n",
      "Pomijamy macierz pomyłki\n"
     ]
    },
    {
     "name": "stderr",
     "output_type": "stream",
     "text": [
      "C:\\Users\\Grzegorz\\anaconda3\\lib\\site-packages\\sklearn\\linear_model\\_logistic.py:763: ConvergenceWarning: lbfgs failed to converge (status=1):\n",
      "STOP: TOTAL NO. of ITERATIONS REACHED LIMIT.\n",
      "\n",
      "Increase the number of iterations (max_iter) or scale the data as shown in:\n",
      "    https://scikit-learn.org/stable/modules/preprocessing.html\n",
      "Please also refer to the documentation for alternative solver options:\n",
      "    https://scikit-learn.org/stable/modules/linear_model.html#logistic-regression\n",
      "  n_iter_i = _check_optimize_result(\n"
     ]
    }
   ],
   "source": [
    "lr=LogisticRegression(max_iter=1000) # zwiększ max iter do 10 000\n",
    "lr.fit(Xtrain,Ytrain)  \n",
    "Ypred=lr.predict(Xtest)\n",
    "print ('Wyniki klasyfikatora regresja logistyczna')\n",
    "print ('Trafność = ', round(accuracy_score(Ytest,Ypred)*100,2),'%')\n",
    "print('Precyzja = ',round(precision_score(Ytest,Ypred)*100,2),'%') \n",
    "print('Czułość = ', round(recall_score(Ytest,Ypred)*100,2),'%') \n",
    "print('Zbalansowana trafność =', round(balanced_accuracy_score(Ytest,Ypred,adjusted=True)*100,2),'%')\n",
    "print (\"Pomijamy macierz pomyłki\")"
   ]
  },
  {
   "cell_type": "code",
   "execution_count": 6,
   "id": "be62fa86",
   "metadata": {},
   "outputs": [
    {
     "name": "stdout",
     "output_type": "stream",
     "text": [
      "Wyniki klasyfikatora maszyna wektorów nośnych\n",
      "Trafność =  99.82 %\n",
      "Precyzja =  0.0 %\n",
      "Czułość =  0.0 %\n",
      "Zbalansowana trafność = 0.0 %\n",
      "Pomijamy macierz pomyłki\n"
     ]
    },
    {
     "name": "stderr",
     "output_type": "stream",
     "text": [
      "C:\\Users\\Grzegorz\\anaconda3\\lib\\site-packages\\sklearn\\metrics\\_classification.py:1245: UndefinedMetricWarning: Precision is ill-defined and being set to 0.0 due to no predicted samples. Use `zero_division` parameter to control this behavior.\n",
      "  _warn_prf(average, modifier, msg_start, len(result))\n"
     ]
    }
   ],
   "source": [
    "mSVC=SVC(kernel='poly',random_state=5) # jak dasz parametr C =100 lub więcej nie doczekasz się na wynik.\n",
    "mSVC.fit(Xtrain,Ytrain)\n",
    "Ypred=mSVC.predict(Xtest)\n",
    "print ('Wyniki klasyfikatora maszyna wektorów nośnych')\n",
    "print ('Trafność = ', round(accuracy_score(Ytest,Ypred)*100,2),'%')\n",
    "print('Precyzja = ',round(precision_score(Ytest,Ypred)*100,2),'%') \n",
    "print('Czułość = ', round(recall_score(Ytest,Ypred)*100,2),'%') \n",
    "print('Zbalansowana trafność =', round(balanced_accuracy_score(Ytest,Ypred,adjusted=True)*100,2),'%')\n",
    "print (\"Pomijamy macierz pomyłki\")"
   ]
  },
  {
   "cell_type": "code",
   "execution_count": 5,
   "id": "eb5d5f53",
   "metadata": {},
   "outputs": [
    {
     "name": "stdout",
     "output_type": "stream",
     "text": [
      "Wyniki klasyfikatora SGD\n",
      "Trafność =  99.81 %\n",
      "Precyzja =  0.0 %\n",
      "Czułość =  0.0 %\n",
      "Zbalansowana trafność = -0.01 %\n",
      "Pomijamy macierz pomyłki\n"
     ]
    }
   ],
   "source": [
    "# ten model nie jest w stanie się nic nauczyć. Czułość 0.\n",
    "sgdModel = SGDClassifier(random_state=5)\n",
    "sgdModel.fit(Xtrain,Ytrain)\n",
    "Ypred=sgdModel.predict(Xtest)\n",
    "print ('Wyniki klasyfikatora SGD')\n",
    "print ('Trafność = ', round(accuracy_score(Ytest,Ypred)*100,2),'%')\n",
    "print('Precyzja = ',round(precision_score(Ytest,Ypred)*100,2),'%') \n",
    "print('Czułość = ', round(recall_score(Ytest,Ypred)*100,2),'%') \n",
    "print('Zbalansowana trafność =', round(balanced_accuracy_score(Ytest,Ypred,adjusted=True)*100,2),'%')\n",
    "print (\"Pomijamy macierz pomyłki\")"
   ]
  },
  {
   "cell_type": "markdown",
   "id": "bea814d6",
   "metadata": {},
   "source": [
    "### Wstępna analiza prostą siecią neuronową\n",
    "Niestety sieć nie jest w stanie się nauczyć. Można pominąć"
   ]
  },
  {
   "cell_type": "code",
   "execution_count": 9,
   "id": "fe183c7d",
   "metadata": {},
   "outputs": [],
   "source": [
    "# import keras\n",
    "from keras.models import Sequential\n",
    "from keras.layers import Dense,Dropout\n",
    "#from keras.layers.normalization import BatchNormalization\n",
    "from keras import backend\n",
    "from keras.utils.vis_utils import plot_model\n",
    "from keras.utils import np_utils\n",
    "\n",
    "from sklearn.preprocessing import StandardScaler,  LabelEncoder"
   ]
  },
  {
   "cell_type": "code",
   "execution_count": 10,
   "id": "70d883ed",
   "metadata": {},
   "outputs": [],
   "source": [
    "# Przeskalowanie (normalizacja) danych. Konieczna dla sieci neuronowej.\n",
    "sc = StandardScaler()\n",
    "XtrainS = sc.fit_transform(Xtrain) # średnią i std wyliczam na podstawie tego zbioru\n",
    "XtestS = sc.transform(Xtest) # używam średniej i std wyliczonej dla Xtrain"
   ]
  },
  {
   "cell_type": "code",
   "execution_count": 11,
   "id": "f3bdd79b",
   "metadata": {},
   "outputs": [],
   "source": [
    "# Budowa kilkuwarstwowej sieci\n",
    "ANN=Sequential()\n",
    "ANN.add(Dense(60,input_dim=30,activation = 'relu'))\n",
    "\n",
    "# Bulding Second and third layer\n",
    "ANN.add(Dense(30,activation='relu'))\n",
    "ANN.add(Dense(30,activation='relu'))\n",
    "\n",
    "# Output Layer\n",
    "ANN.add(Dense(1,activation='softmax'))\n",
    "\n",
    "ANN.compile(optimizer='Adam',loss='binary_crossentropy')"
   ]
  },
  {
   "cell_type": "code",
   "execution_count": 12,
   "id": "a005d23e",
   "metadata": {},
   "outputs": [
    {
     "name": "stdout",
     "output_type": "stream",
     "text": [
      "Epoch 1/6\n",
      "6409/6409 [==============================] - 3s 505us/step - loss: 15.2237 - val_loss: 15.2243\n",
      "Epoch 2/6\n",
      "6409/6409 [==============================] - 3s 486us/step - loss: 15.2237 - val_loss: 15.2243\n",
      "Epoch 3/6\n",
      "6409/6409 [==============================] - 3s 502us/step - loss: 15.2237 - val_loss: 15.2243\n",
      "Epoch 4/6\n",
      "6409/6409 [==============================] - 3s 504us/step - loss: 15.2237 - val_loss: 15.2243\n",
      "Epoch 5/6\n",
      "6409/6409 [==============================] - 3s 507us/step - loss: 15.2237 - val_loss: 15.2243\n",
      "Epoch 6/6\n",
      "6409/6409 [==============================] - 3s 503us/step - loss: 15.2237 - val_loss: 15.2243\n"
     ]
    }
   ],
   "source": [
    "# krótkie uczenie - przebieg uczenia zapisany do obiektu hist\n",
    "hist=ANN.fit(XtrainS,Ytrain,epochs=6,batch_size=32,validation_split=0.1)"
   ]
  },
  {
   "cell_type": "code",
   "execution_count": 13,
   "id": "07409064",
   "metadata": {},
   "outputs": [
    {
     "data": {
      "image/png": "[encoded data removed]",
      "text/plain": [
       "<Figure size 432x288 with 1 Axes>"
      ]
     },
     "metadata": {
      "needs_background": "light"
     },
     "output_type": "display_data"
    }
   ],
   "source": [
    "#wizualizacja procesu uczenia sieci\n",
    "\n",
    "plt.plot(hist.history['loss'])\n",
    "plt.plot(hist.history['val_loss'])\n",
    "plt.title('ANN')\n",
    "plt.ylabel('Accuracy')\n",
    "plt.xlabel('epoch')\n",
    "plt.legend(['train', 'validation'], loc='lower right')\n",
    "plt.show()"
   ]
  },
  {
   "cell_type": "code",
   "execution_count": 14,
   "id": "2654793e",
   "metadata": {},
   "outputs": [],
   "source": [
    "YpredKatFF=ANN.predict(XtestS) # przewidywanie przez sieć\n",
    "YpredFF= np.argmax(YpredKatFF,axis=1) # przejście z danych \"kategorycznych\" na konkretne cyfry"
   ]
  },
  {
   "cell_type": "code",
   "execution_count": 15,
   "id": "31b11c4b",
   "metadata": {},
   "outputs": [
    {
     "name": "stdout",
     "output_type": "stream",
     "text": [
      "Wyniki klasyfikatora ANN\n",
      "Trafność =  99.82 %\n",
      "Precyzja =  0.0 %\n",
      "Czułość =  0.0 %\n",
      "Zbalansowana trafność = 0.0 %\n",
      "Pomijamy macierz pomyłki\n"
     ]
    },
    {
     "name": "stderr",
     "output_type": "stream",
     "text": [
      "C:\\Users\\Grzegorz\\anaconda3\\lib\\site-packages\\sklearn\\metrics\\_classification.py:1245: UndefinedMetricWarning: Precision is ill-defined and being set to 0.0 due to no predicted samples. Use `zero_division` parameter to control this behavior.\n",
      "  _warn_prf(average, modifier, msg_start, len(result))\n"
     ]
    }
   ],
   "source": [
    "print ('Wyniki klasyfikatora ANN')\n",
    "print ('Trafność = ', round(accuracy_score(Ytest,YpredFF)*100,2),'%')\n",
    "print('Precyzja = ',round(precision_score(Ytest,YpredFF)*100,2),'%') \n",
    "print('Czułość = ', round(recall_score(Ytest,YpredFF)*100,2),'%') \n",
    "print('Zbalansowana trafność =', round(balanced_accuracy_score(Ytest,YpredFF,adjusted=True)*100,2),'%')\n",
    "print (\"Pomijamy macierz pomyłki\")"
   ]
  },
  {
   "cell_type": "markdown",
   "id": "8538947e",
   "metadata": {},
   "source": [
    "## Przechodzimy do analizy modelem Lasu Losowego  \n",
    "Las sobie radzi najlepiej, dlatego się na nim skupiam"
   ]
  },
  {
   "cell_type": "code",
   "execution_count": 16,
   "id": "302dba53",
   "metadata": {},
   "outputs": [],
   "source": [
    "# import potrzebnych funkcji z sci-kit learn\n",
    "from sklearn.model_selection import train_test_split, cross_val_score\n",
    "from sklearn.metrics import accuracy_score, confusion_matrix, ConfusionMatrixDisplay, precision_score, recall_score,balanced_accuracy_score\n",
    "from sklearn.ensemble import RandomForestClassifier\n",
    "from joblib import dump, load\n"
   ]
  },
  {
   "cell_type": "code",
   "execution_count": 5,
   "id": "9e0b2e68",
   "metadata": {},
   "outputs": [],
   "source": [
    "# Podział na atrybuty i znacznik klasy\n",
    "Xcards=cards.drop('Class',axis=1)\n",
    "Ycards=cards[\"Class\"]\n",
    "\n",
    "# Podział na zbiór treningowy i testowy,  random_state=5 zapewnia powtarzalność\n",
    "Xtrain,Xtest,Ytrain,Ytest=train_test_split(Xcards,Ycards, test_size=0.2, random_state=5)\n"
   ]
  },
  {
   "cell_type": "code",
   "execution_count": 19,
   "id": "854e9e2b",
   "metadata": {},
   "outputs": [],
   "source": [
    "#rndForest = RandomForestClassifier(n_estimators=150,n_jobs=-1, random_state=1)\n",
    "#rndForest.fit(Xtrain,Ytrain)\n",
    "#zapisanie modelu w celu ponownego użycia (następnym razem nie trzeba ponownie uczyć)\n",
    "#dump(rndForest, 'rndForest.joblib')\n",
    "\n",
    "#Po pierwszym treningu i zapisaniu wystarczy model \"wgrać\"\n",
    "\n",
    "rndForest=load('rndForest.joblib')"
   ]
  },
  {
   "cell_type": "code",
   "execution_count": 20,
   "id": "d59c59d0",
   "metadata": {},
   "outputs": [
    {
     "name": "stdout",
     "output_type": "stream",
     "text": [
      "Trafność =  99.96 %\n",
      "Precyzja =  97.65 %\n",
      "Wypełnienie (recall) =  79.81 %\n",
      "Zbalansowana trafność = 79.8 %\n"
     ]
    }
   ],
   "source": [
    "Ypred=rndForest.predict(Xtest)\n",
    "\n",
    "print ('Trafność = ', round(accuracy_score(Ytest,Ypred)*100,2),'%')\n",
    "print('Precyzja = ',round(precision_score(Ytest,Ypred)*100,2),'%') \n",
    "print('Wypełnienie (recall) = ', round(recall_score(Ytest,Ypred)*100,2),'%') \n",
    "print('Zbalansowana trafność =', round(balanced_accuracy_score(Ytest,Ypred,adjusted=True)*100,2),'%')"
   ]
  },
  {
   "cell_type": "code",
   "execution_count": 17,
   "id": "061e6814",
   "metadata": {},
   "outputs": [
    {
     "name": "stdout",
     "output_type": "stream",
     "text": [
      "189 ms ± 6.15 ms per loop (mean ± std. dev. of 7 runs, 1 loop each)\n"
     ]
    }
   ],
   "source": [
    "# taki teścik ile trwa predykcja.\n",
    "%timeit Ypred=rndForest.predict(Xtest)"
   ]
  },
  {
   "cell_type": "code",
   "execution_count": 18,
   "id": "7e3c37ca",
   "metadata": {},
   "outputs": [
    {
     "name": "stdout",
     "output_type": "stream",
     "text": [
      "Sprawdzenie pojedynczej próbki trwa około  3.3274647887323945  mikrosekund\n"
     ]
    }
   ],
   "source": [
    "print ('Sprawdzenie pojedynczej próbki trwa około ',189000/56800,' mikrosekund')"
   ]
  },
  {
   "cell_type": "code",
   "execution_count": 21,
   "id": "d0c4347d",
   "metadata": {},
   "outputs": [
    {
     "data": {
      "image/png": "[encoded data removed]",
      "text/plain": [
       "<Figure size 432x288 with 2 Axes>"
      ]
     },
     "metadata": {
      "needs_background": "light"
     },
     "output_type": "display_data"
    }
   ],
   "source": [
    "mat = confusion_matrix(Ytest, Ypred)\n",
    "disp = ConfusionMatrixDisplay(confusion_matrix=mat)\n",
    "\n",
    "disp.plot()\n",
    "plt.title(\"Las losowy\")\n",
    "plt.savefig('RF_C_matrix.png')\n",
    "plt.show()"
   ]
  },
  {
   "cell_type": "markdown",
   "id": "af18aedb",
   "metadata": {},
   "source": [
    "#### Sprawdzenie jak sobie LL poradzi na danych treningowych"
   ]
  },
  {
   "cell_type": "code",
   "execution_count": 22,
   "id": "483ac834",
   "metadata": {},
   "outputs": [
    {
     "data": {
      "image/png": "[encoded data removed]",
      "text/plain": [
       "<Figure size 432x288 with 2 Axes>"
      ]
     },
     "metadata": {
      "needs_background": "light"
     },
     "output_type": "display_data"
    }
   ],
   "source": [
    "YpredTrain=rndForest.predict(Xtrain)\n",
    "mat = confusion_matrix(Ytrain, YpredTrain)\n",
    "#cm = confusion_matrix(y_test, predictions, labels=clf.classes_)\n",
    "disp = ConfusionMatrixDisplay(confusion_matrix=mat)\n",
    "disp.plot()\n",
    "plt.show()"
   ]
  },
  {
   "cell_type": "markdown",
   "id": "e41152bc",
   "metadata": {},
   "source": [
    "#### Fakt, że na danych treningowych wychodzi perfekt oznacza prawdopodobnie, że utworzony las ulega przeuczeniu\n",
    "Trzeba by się temu dokładiej przyjrzeć, wykonać jakąś optymalizację hiperparametrów modelu"
   ]
  },
  {
   "cell_type": "markdown",
   "id": "8c4e5c45",
   "metadata": {},
   "source": [
    "### Badanie testem krzyżowym lasu losowego"
   ]
  },
  {
   "cell_type": "code",
   "execution_count": 58,
   "id": "db72a3eb",
   "metadata": {},
   "outputs": [],
   "source": [
    "from sklearn.model_selection import cross_validate\n",
    "\n",
    "scores = cross_validate (rndForest, Xcards,Ycards,scoring=(\"precision\",\"recall\"), cv=5)"
   ]
  },
  {
   "cell_type": "code",
   "execution_count": 59,
   "id": "8047e9dd",
   "metadata": {},
   "outputs": [
    {
     "data": {
      "text/plain": [
       "{'fit_time': array([63.64752412, 62.75530124, 76.45073152, 75.48900342, 73.19011426]),\n",
       " 'score_time': array([0.20329618, 0.19824958, 0.19665074, 0.20580745, 0.20162463]),\n",
       " 'test_precision': array([0.68503937, 0.9875    , 0.80487805, 0.97530864, 0.98571429]),\n",
       " 'test_recall': array([0.87878788, 0.7979798 , 0.67346939, 0.80612245, 0.70408163])}"
      ]
     },
     "execution_count": 59,
     "metadata": {},
     "output_type": "execute_result"
    }
   ],
   "source": [
    "scores"
   ]
  },
  {
   "cell_type": "markdown",
   "id": "3327f79e",
   "metadata": {},
   "source": [
    "### Wykonanie wykresów Precyzji i Czułości względem progu prawdopodobieństwa"
   ]
  },
  {
   "cell_type": "code",
   "execution_count": 24,
   "id": "62a15888",
   "metadata": {},
   "outputs": [],
   "source": [
    "probabilities=rndForest.predict_proba(Xtest)"
   ]
  },
  {
   "cell_type": "code",
   "execution_count": 25,
   "id": "fef6807e",
   "metadata": {},
   "outputs": [
    {
     "data": {
      "image/png": "[encoded data removed]",
      "text/plain": [
       "<Figure size 432x288 with 1 Axes>"
      ]
     },
     "metadata": {
      "needs_background": "light"
     },
     "output_type": "display_data"
    }
   ],
   "source": [
    "from sklearn.metrics import precision_recall_curve\n",
    "precisions, recalls, thresholds = precision_recall_curve(Ytest,probabilities[:,1] )\n",
    "\n",
    "def plot_precision_recall_vs_threshold(precisions, recalls, thresholds):\n",
    "    plt.plot(thresholds, precisions[:-1], \"b--\", label=\"Precyzja\")\n",
    "    plt.plot(thresholds, recalls[:-1], \"g-\", label=\"Czułość\")\n",
    "    plt.legend()\n",
    "    plt.xlabel('Próg')\n",
    "#[...] # highlight the threshold, add the legend, axis label and grid\n",
    "\n",
    "plot_precision_recall_vs_threshold(precisions, recalls, thresholds)\n",
    "plt.savefig('Prec_Recall_Thres.png')\n",
    "plt.show()"
   ]
  },
  {
   "cell_type": "markdown",
   "id": "f3e4dd5a",
   "metadata": {},
   "source": [
    "### Wykonanie wykresu Precyzji vs Czułość"
   ]
  },
  {
   "cell_type": "code",
   "execution_count": 28,
   "id": "33ab3757",
   "metadata": {},
   "outputs": [
    {
     "data": {
      "image/png": "[encoded data removed]",
      "text/plain": [
       "<Figure size 432x288 with 1 Axes>"
      ]
     },
     "metadata": {
      "needs_background": "light"
     },
     "output_type": "display_data"
    }
   ],
   "source": [
    "from sklearn.metrics import PrecisionRecallDisplay\n",
    "from sklearn.metrics import (precision_recall_curve, PrecisionRecallDisplay)\n",
    "\n",
    "precision, recall, _ = precision_recall_curve(Ytest, probabilities[:,1])\n",
    "disp = PrecisionRecallDisplay(precision=precision, recall=recall)\n",
    "disp.plot()\n",
    "plt.savefig('PrecvsRecall.png')\n",
    "plt.show()"
   ]
  },
  {
   "cell_type": "markdown",
   "id": "9e7aa853",
   "metadata": {},
   "source": [
    "## Wstępne balansowanie danych"
   ]
  },
  {
   "cell_type": "code",
   "execution_count": 30,
   "id": "0b33043a",
   "metadata": {},
   "outputs": [
    {
     "name": "stdout",
     "output_type": "stream",
     "text": [
      "Training target statistics: Counter({0: 227457, 1: 227457})\n",
      "Testing target statistics: Counter({0: 56858, 1: 104})\n"
     ]
    }
   ],
   "source": [
    "from collections import Counter\n",
    "from imblearn.over_sampling import RandomOverSampler # pobranie Oversamplera\n",
    "over_sampler = RandomOverSampler(random_state=42)\n",
    "XtrainOv, YtrainOv = over_sampler.fit_resample(Xtrain, Ytrain)\n",
    "print(f\"Training target statistics: {Counter(YtrainOv)}\")\n",
    "print(f\"Testing target statistics: {Counter(Ytest)}\")"
   ]
  },
  {
   "cell_type": "code",
   "execution_count": 34,
   "id": "63e991aa",
   "metadata": {},
   "outputs": [],
   "source": [
    "#rndForestOv = RandomForestClassifier(n_estimators=150,n_jobs=-1, random_state=1)\n",
    "#rndForestOv.fit(XtrainOv,YtrainOv)\n",
    "#zapisanie modelu w celu ponownego użycia (następnym razem nie trzeba ponownie uczyć)\n",
    "#dump(rndForestOv, 'rndForestOv.joblib')\n",
    "\n",
    "#Po pierwszym treningu i zapisaniu wystarczy model \"wgrać\"\n",
    "\n",
    "rndForestOv=load('rndForestOv.joblib')"
   ]
  },
  {
   "cell_type": "code",
   "execution_count": 35,
   "id": "207a663f",
   "metadata": {},
   "outputs": [
    {
     "name": "stdout",
     "output_type": "stream",
     "text": [
      "Trafność =  99.96 %\n",
      "Precyzja =  98.82 %\n",
      "Wypełnienie (recall) =  80.77 %\n",
      "Zbalansowana trafność = 80.77 %\n"
     ]
    }
   ],
   "source": [
    "Ypred=rndForestOv.predict(Xtest)\n",
    "\n",
    "print ('Trafność = ', round(accuracy_score(Ytest,Ypred)*100,2),'%')\n",
    "print('Precyzja = ',round(precision_score(Ytest,Ypred)*100,2),'%') \n",
    "print('Wypełnienie (recall) = ', round(recall_score(Ytest,Ypred)*100,2),'%') \n",
    "print('Zbalansowana trafność =', round(balanced_accuracy_score(Ytest,Ypred,adjusted=True)*100,2),'%')"
   ]
  },
  {
   "cell_type": "code",
   "execution_count": 36,
   "id": "09abc66f",
   "metadata": {},
   "outputs": [
    {
     "data": {
      "image/png": "[encoded data removed]",
      "text/plain": [
       "<Figure size 432x288 with 2 Axes>"
      ]
     },
     "metadata": {
      "needs_background": "light"
     },
     "output_type": "display_data"
    }
   ],
   "source": [
    "mat = confusion_matrix(Ytest, Ypred)\n",
    "disp = ConfusionMatrixDisplay(confusion_matrix=mat)\n",
    "disp.plot()\n",
    "plt.savefig('RF_C_matrixOV.png')\n",
    "plt.show()\n"
   ]
  },
  {
   "cell_type": "markdown",
   "id": "171ef2d0",
   "metadata": {},
   "source": [
    "### Widać, że udało się poprawić o 1 próbkę czułość. Mało, ale zawsze coś. Trzeba by to dokładniej zbadać"
   ]
  },
  {
   "cell_type": "code",
   "execution_count": null,
   "id": "9fc1c210",
   "metadata": {},
   "outputs": [],
   "source": []
  }
 ],
 "metadata": {
  "kernelspec": {
   "display_name": "Python 3",
   "language": "python",
   "name": "python3"
  },
  "language_info": {
   "codemirror_mode": {
    "name": "ipython",
    "version": 3
   },
   "file_extension": ".py",
   "mimetype": "text/x-python",
   "name": "python",
   "nbconvert_exporter": "python",
   "pygments_lexer": "ipython3",
   "version": "3.8.8"
  }
 },
 "nbformat": 4,
 "nbformat_minor": 5
}
